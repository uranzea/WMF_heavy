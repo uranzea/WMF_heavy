{
 "cells": [
  {
   "cell_type": "markdown",
   "metadata": {},
   "source": [
    "# Ejemplo de uso para morfología de cuencas"
   ]
  },
  {
   "cell_type": "markdown",
   "metadata": {},
   "source": [
    "Coloque los archivos `dem.tif` y `dir.tif` dentro de `examples/data` antes de ejecutar este cuaderno."
   ]
  },
  {
   "cell_type": "code",
   "execution_count": null,
   "id": "b4a2fa36",
   "metadata": {},
   "outputs": [],
   "source": [
    "import sys\n",
    "import os\n",
    "\n",
    "# Agregar la carpeta raíz del proyecto al PYTHONPATH\n",
    "sys.path.append(os.path.abspath(\"..\"))  # o la ruta donde está wmf_py"
   ]
  },
  {
   "cell_type": "code",
   "execution_count": null,
   "id": "d362cb83",
   "metadata": {},
   "outputs": [],
   "source": [
    "from pathlib import Path\n",
    "import numpy as np\n",
    "import rasterio\n",
    "import matplotlib.pyplot as plt\n",
    "from wmf_py.cu_py import basics, metrics"
   ]
  },
  {
   "cell_type": "code",
   "execution_count": null,
   "metadata": {},
   "outputs": [
    {
     "ename": "ValueError",
     "evalue": "operands could not be broadcast together with shapes (1125,769) (1133,769) ",
     "output_type": "error",
     "traceback": [
      "\u001b[0;31m---------------------------------------------------------------------------\u001b[0m",
      "\u001b[0;31mValueError\u001b[0m                                Traceback (most recent call last)",
      "Cell \u001b[0;32mIn[5], line 37\u001b[0m\n\u001b[1;32m     34\u001b[0m \u001b[38;5;66;03m# En algunos D8 los valores válidos son {1..8}; si aplica, forzamos eso:\u001b[39;00m\n\u001b[1;32m     35\u001b[0m mask_dir \u001b[38;5;241m&\u001b[39m\u001b[38;5;241m=\u001b[39m np\u001b[38;5;241m.\u001b[39misin(flowdir, [\u001b[38;5;241m1\u001b[39m,\u001b[38;5;241m2\u001b[39m,\u001b[38;5;241m3\u001b[39m,\u001b[38;5;241m4\u001b[39m,\u001b[38;5;241m5\u001b[39m,\u001b[38;5;241m6\u001b[39m,\u001b[38;5;241m7\u001b[39m,\u001b[38;5;241m8\u001b[39m])\n\u001b[0;32m---> 37\u001b[0m mask \u001b[38;5;241m=\u001b[39m \u001b[43mmask_dem\u001b[49m\u001b[43m \u001b[49m\u001b[38;5;241;43m&\u001b[39;49m\u001b[43m \u001b[49m\u001b[43mmask_dir\u001b[49m\n\u001b[1;32m     39\u001b[0m \u001b[38;5;66;03m# --- 2) Parámetros espaciales y helper de coordenadas ---\u001b[39;00m\n\u001b[1;32m     40\u001b[0m dx \u001b[38;5;241m=\u001b[39m transform[\u001b[38;5;241m0\u001b[39m]\n",
      "\u001b[0;31mValueError\u001b[0m: operands could not be broadcast together with shapes (1125,769) (1133,769) "
     ]
    }
   ],
   "source": [
    "\n",
    "\n",
    "base = Path(\"examples/data\")\n",
    "if not base.exists():\n",
    "    base = Path(\"data\")\n",
    "\n",
    "dem_path = base / \"Dem_2m_palmitas_4326.tif\"\n",
    "dir_path = base / \"DIR_2m_palmitas_4326.tif\"\n",
    "\n",
    "with rasterio.open(dem_path) as dem_src:\n",
    "    dem = dem_src.read(1)\n",
    "    transform = dem_src.transform  # (a,b,c,d,e,f) = (dx, 0, x0, 0, dy_neg, y0_top)\n",
    "    nodata_dem = dem_src.nodata\n",
    "\n",
    "with rasterio.open(dir_path) as dir_src:\n",
    "    flowdir = dir_src.read(1)\n",
    "    nodata_dir = dir_src.nodata\n",
    "\n",
    "# --- 1) Máscara robusta (DEM y flowdir) ---\n",
    "# Maneja correctamente None y NaN\n",
    "if nodata_dem is None or (isinstance(nodata_dem, float) and np.isnan(nodata_dem)):\n",
    "    mask_dem = np.isfinite(dem)\n",
    "else:\n",
    "    mask_dem = dem != nodata_dem\n",
    "\n",
    "if nodata_dir is None or (isinstance(nodata_dir, float) and np.isnan(nodata_dir)):\n",
    "    mask_dir = np.isfinite(flowdir)\n",
    "else:\n",
    "    mask_dir = flowdir != nodata_dir\n",
    "\n",
    "# En algunos D8 los valores válidos son {1..8}; si aplica, forzamos eso:\n",
    "mask_dir &= np.isin(flowdir, [1,2,3,4,5,6,7,8])\n",
    "\n",
    "mask = mask_dem & mask_dir\n",
    "\n",
    "# --- 2) Parámetros espaciales y helper de coordenadas ---\n",
    "dx = transform[0]\n",
    "dy = -transform[4]                    # tamaño de píxel positivo\n",
    "xll = transform[2]                    # X de la esquina izq\n",
    "yll = transform[5] + transform[4]*dem.shape[0]  # Y de la esquina inferior (porque e es negativo)\n",
    "\n",
    "nrows, ncols = dem.shape\n",
    "\n",
    "def rc_from_xy(x, y):\n",
    "    # fila/col desde el (xll, yll) y tamaño de celda dx,dy\n",
    "    c = int((x - xll) // dx)\n",
    "    r = int((y - yll) // dy)\n",
    "    return r, c\n",
    "\n",
    "def xy_center_from_rc(r, c):\n",
    "    x = xll + (c + 0.5)*dx\n",
    "    y = yll + (r + 0.5)*dy\n",
    "    return x, y\n",
    "\n",
    "def in_bounds(r, c):\n",
    "    return (0 <= r < nrows) and (0 <= c < ncols)\n",
    "\n",
    "# --- 3) Outlet inicial (tu idea de 3 celdas) + validación ---\n",
    "outlet_x = xll + 3*dx + dx/2\n",
    "outlet_y = yll + 3*dy + dy/2\n",
    "\n",
    "r0, c0 = rc_from_xy(outlet_x, outlet_y)\n",
    "if not in_bounds(r0, c0):\n",
    "    raise ValueError(f\"Outlet fuera del raster: r0={r0}, c0={c0}\")\n",
    "\n",
    "# --- 4) Snap al píxel válido más cercano si cae fuera de mask ---\n",
    "if not mask[r0, c0]:\n",
    "    # búsqueda incremental en ventanas cuadradas\n",
    "    max_radius = 20   # ajústalo si tu grid es más grande\n",
    "    found = False\n",
    "    best = None\n",
    "    best_dist2 = None\n",
    "    x0c, y0c = xy_center_from_rc(r0, c0)\n",
    "    for rad in range(1, max_radius+1):\n",
    "        rmin = max(0, r0 - rad); rmax = min(nrows-1, r0 + rad)\n",
    "        cmin = max(0, c0 - rad); cmax = min(ncols-1, c0 + rad)\n",
    "        sub = mask[rmin:rmax+1, cmin:cmax+1]\n",
    "        if sub.any():\n",
    "            rr, cc = np.where(sub)\n",
    "            rr += rmin; cc += cmin\n",
    "            # el más cercano en distancia al centro de celda\n",
    "            for r, c in zip(rr, cc):\n",
    "                xC, yC = xy_center_from_rc(r, c)\n",
    "                d2 = (xC - outlet_x)**2 + (yC - outlet_y)**2\n",
    "                if (best is None) or (d2 < best_dist2):\n",
    "                    best = (r, c); best_dist2 = d2\n",
    "            found = True\n",
    "            break\n",
    "    if not found:\n",
    "        raise ValueError(\"No encontré un píxel válido cerca del outlet propuesto. Revisa el DEM/flowdir o el punto de salida.\")\n",
    "    r0, c0 = best\n",
    "\n",
    "# --- 5) Corte de cuenca, acumulación y cauce principal ---\n",
    "basin = basics.basin_cut(dem, (r0, c0), flowdir, mask)   # ahora sí debería pasar\n",
    "mask_basin = basin[\"mask\"]\n",
    "acum = basics.basin_acum(flowdir, mask_basin)\n",
    "\n",
    "# Umbral para cauces (ajústalo; 1 es muy bajo para 2 m):\n",
    "thresh = 200  # ~200 celdas contribuyentes; tunea para tu resolución\n",
    "stream_mask = (acum >= thresh) & mask_basin\n",
    "\n",
    "# Encuentra y corta el cauce principal\n",
    "metrics.basin_ppalstream_find(stream_mask, flowdir, dem, dx, dy, (r0, c0))\n",
    "profile = metrics.basin_ppalstream_cut()\n",
    "\n",
    "# --- 6) Métricas básicas ---\n",
    "area_km2 = mask_basin.sum() * dx * dy / 1e6\n",
    "length_km = profile[1, -1] / 1000.0\n",
    "slope_pct = np.polyfit(profile[1, ::-1], profile[0], 1)[0] * 100\n",
    "\n",
    "print(f\"Área: {area_km2:.3f} km² | Largo cauce: {length_km:.3f} km | Pendiente media: {slope_pct:.2f} %\")\n"
   ]
  },
  {
   "cell_type": "code",
   "execution_count": 10,
   "id": "e2f4d7ee",
   "metadata": {},
   "outputs": [
    {
     "data": {
      "text/plain": [
       "(1133, 769)"
      ]
     },
     "execution_count": 10,
     "metadata": {},
     "output_type": "execute_result"
    }
   ],
   "source": [
    "np.shape(flowdir)"
   ]
  },
  {
   "cell_type": "code",
   "execution_count": null,
   "metadata": {},
   "outputs": [],
   "source": [
    "print(f\"Área de la cuenca: {area_km2:.2f} km²\")\n",
    "print(f\"Longitud del cauce principal: {length_km:.2f} km\")\n",
    "print(f\"Pendiente media del cauce: {slope_pct:.2f} %\")"
   ]
  },
  {
   "cell_type": "code",
   "execution_count": null,
   "metadata": {},
   "outputs": [],
   "source": [
    "plt.figure(figsize=(6, 6))\n",
    "plt.imshow(dem, cmap=\"terrain\")\n",
    "plt.contour(mask_basin, levels=[0.5], colors=\"blue\")\n",
    "plt.title(\"Cuenca delineada\")\n",
    "plt.axis(\"off\")"
   ]
  },
  {
   "cell_type": "code",
   "execution_count": null,
   "metadata": {},
   "outputs": [],
   "source": [
    "plt.figure(figsize=(6, 6))\n",
    "plt.imshow(mask_basin, cmap=\"Greys\", alpha=0.5)\n",
    "plt.imshow(np.where(stream_mask, stream_mask, np.nan), cmap=\"Blues\", alpha=0.7)\n",
    "plt.title(\"Red de drenaje\")\n",
    "plt.axis(\"off\")"
   ]
  },
  {
   "cell_type": "code",
   "execution_count": null,
   "metadata": {},
   "outputs": [],
   "source": [
    "plt.figure()\n",
    "plt.plot(profile[1], profile[0])\n",
    "plt.xlabel(\"Distancia (m)\")\n",
    "plt.ylabel(\"Elevación (m)\")\n",
    "plt.title(\"Perfil longitudinal del cauce principal\")\n",
    "plt.grid(True)"
   ]
  }
 ],
 "metadata": {
  "kernelspec": {
   "display_name": "wmf",
   "language": "python",
   "name": "python3"
  },
  "language_info": {
   "codemirror_mode": {
    "name": "ipython",
    "version": 3
   },
   "file_extension": ".py",
   "mimetype": "text/x-python",
   "name": "python",
   "nbconvert_exporter": "python",
   "pygments_lexer": "ipython3",
   "version": "3.10.18"
  }
 },
 "nbformat": 4,
 "nbformat_minor": 5
}
